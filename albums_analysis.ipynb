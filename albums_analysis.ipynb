{
 "cells": [
  {
   "cell_type": "code",
   "execution_count": 12,
   "id": "ee48586b",
   "metadata": {},
   "outputs": [
    {
     "data": {
      "text/html": [
       "<div>\n",
       "<style scoped>\n",
       "    .dataframe tbody tr th:only-of-type {\n",
       "        vertical-align: middle;\n",
       "    }\n",
       "\n",
       "    .dataframe tbody tr th {\n",
       "        vertical-align: top;\n",
       "    }\n",
       "\n",
       "    .dataframe thead th {\n",
       "        text-align: right;\n",
       "    }\n",
       "</style>\n",
       "<table border=\"1\" class=\"dataframe\">\n",
       "  <thead>\n",
       "    <tr style=\"text-align: right;\">\n",
       "      <th></th>\n",
       "      <th>0</th>\n",
       "      <th>1</th>\n",
       "      <th>2</th>\n",
       "      <th>3</th>\n",
       "      <th>4</th>\n",
       "    </tr>\n",
       "  </thead>\n",
       "  <tbody>\n",
       "    <tr>\n",
       "      <th>0</th>\n",
       "      <td>POS</td>\n",
       "      <td>TITLE</td>\n",
       "      <td>ARTIST</td>\n",
       "      <td>YEAR</td>\n",
       "      <td>HIGH POSN</td>\n",
       "    </tr>\n",
       "    <tr>\n",
       "      <th>1</th>\n",
       "      <td>1</td>\n",
       "      <td>GREATEST HITS</td>\n",
       "      <td>QUEEN</td>\n",
       "      <td>1981</td>\n",
       "      <td>1</td>\n",
       "    </tr>\n",
       "    <tr>\n",
       "      <th>2</th>\n",
       "      <td>2</td>\n",
       "      <td>GOLD - GREATEST HITS</td>\n",
       "      <td>ABBA</td>\n",
       "      <td>1992</td>\n",
       "      <td>1</td>\n",
       "    </tr>\n",
       "    <tr>\n",
       "      <th>3</th>\n",
       "      <td>3</td>\n",
       "      <td>SGT PEPPER'S LONELY HEARTS CLUB BAND</td>\n",
       "      <td>BEATLES</td>\n",
       "      <td>1967</td>\n",
       "      <td>1</td>\n",
       "    </tr>\n",
       "    <tr>\n",
       "      <th>4</th>\n",
       "      <td>4</td>\n",
       "      <td>21</td>\n",
       "      <td>ADELE</td>\n",
       "      <td>2011</td>\n",
       "      <td>1</td>\n",
       "    </tr>\n",
       "  </tbody>\n",
       "</table>\n",
       "</div>"
      ],
      "text/plain": [
       "     0                                     1        2     3          4\n",
       "0  POS                                 TITLE   ARTIST  YEAR  HIGH POSN\n",
       "1    1                         GREATEST HITS    QUEEN  1981          1\n",
       "2    2                  GOLD - GREATEST HITS     ABBA  1992          1\n",
       "3    3  SGT PEPPER'S LONELY HEARTS CLUB BAND  BEATLES  1967          1\n",
       "4    4                                    21    ADELE  2011          1"
      ]
     },
     "execution_count": 12,
     "metadata": {},
     "output_type": "execute_result"
    }
   ],
   "source": [
    "import pandas as pd\n",
    "\n",
    "# Dane o albumach z dodatkową kolumną 'Max Poz' (np. pozycja w rankingu)\n",
    "\n",
    "# Tworzymy DataFrame\n",
    "df = pd.read_html(\"https://www.officialcharts.com/chart-news/the-best-selling-albums-of-all-time-on-the-official-uk-chart__15551/\")[0]\n",
    "df.head()\n"
   ]
  },
  {
   "cell_type": "code",
   "execution_count": 13,
   "id": "090e8569",
   "metadata": {},
   "outputs": [
    {
     "data": {
      "text/plain": [
       "['POS', 'TITLE', 'ARTIST', 'YEAR', 'HIGH POSN']"
      ]
     },
     "execution_count": 13,
     "metadata": {},
     "output_type": "execute_result"
    }
   ],
   "source": [
    "list(df.iloc[0])\n"
   ]
  },
  {
   "cell_type": "code",
   "execution_count": 13,
   "id": "0e93e7dd",
   "metadata": {},
   "outputs": [
    {
     "name": "stdout",
     "output_type": "stream",
     "text": [
      "Ilu unikalnych artystów: 48\n",
      "\n",
      "Najczęściej występujący artyści:\n",
      "ARTIST\n",
      "COLDPLAY                    3\n",
      "TAKE THAT                   3\n",
      "QUEEN                       2\n",
      "ABBA                        2\n",
      "MICHAEL JACKSON             2\n",
      "FLEETWOOD MAC               2\n",
      "BEATLES                     2\n",
      "ADELE                       2\n",
      "DIDO                        2\n",
      "ORIGINAL SOUNDTRACK         2\n",
      "ROBBIE WILLIAMS             2\n",
      "MADONNA                     1\n",
      "PINK FLOYD                  1\n",
      "DIRE STRAITS                1\n",
      "OASIS                       1\n",
      "ARTIST                      1\n",
      "JAMES BLUNT                 1\n",
      "BOB MARLEY & THE WAILERS    1\n",
      "SHANIA TWAIN                1\n",
      "SIMPLY RED                  1\n",
      "AMY WINEHOUSE               1\n",
      "SIMON & GARFUNKEL           1\n",
      "MEAT LOAF                   1\n",
      "LEONA LEWIS                 1\n",
      "DAVID GRAY                  1\n",
      "MICHAEL BUBLE               1\n",
      "SPICE GIRLS                 1\n",
      "CORRS                       1\n",
      "LADY GAGA                   1\n",
      "KINGS OF LEON               1\n",
      "KEANE                       1\n",
      "VERVE                       1\n",
      "U2                          1\n",
      "JEFF WAYNE                  1\n",
      "PHIL COLLINS                1\n",
      "SCISSOR SISTERS             1\n",
      "ALANIS MORISSETTE           1\n",
      "MIKE OLDFIELD               1\n",
      "TRAVIS                      1\n",
      "TRACY CHAPMAN               1\n",
      "ED SHEERAN                  1\n",
      "NORAH JONES                 1\n",
      "PAUL SIMON                  1\n",
      "ORIGINAL CAST RECORDING     1\n",
      "GEORGE MICHAEL              1\n",
      "EMINEM                      1\n",
      "SNOW PATROL                 1\n",
      "REM                         1\n",
      "Name: count, dtype: int64\n"
     ]
    }
   ],
   "source": [
    "\n",
    "# ZADANIE 1: Zamień nazwy kolumn na ['POS', 'TITLE', 'ARTIST', 'YEAR', 'HIGH POSN']\n",
    "df.columns = list(df.iloc[0])\n",
    "\n",
    "# ZADANIE 2: Ilu pojedynczych artystów znajduje się na liście?\n",
    "unikalni_artysci = df['ARTIST'].nunique()\n",
    "print(f\"Ilu unikalnych artystów: {unikalni_artysci}\")\n",
    "\n",
    "# ZADANIE 3: Które zespoły pojawiają się najczęściej?\n",
    "print(\"\\nNajczęściej występujący artyści:\")\n",
    "print(df['ARTIST'].value_counts())\n",
    "\n",
    "# ZADANIE 4: Zmień nagłówki kolumn (pierwsza litera duża, reszta małe)\n",
    "df.columns = [col.capitalize() for col in df.columns]\n",
    "\n"
   ]
  },
  {
   "cell_type": "code",
   "execution_count": 14,
   "id": "113cb0c4",
   "metadata": {},
   "outputs": [
    {
     "name": "stdout",
     "output_type": "stream",
     "text": [
      "Index(['Title', 'Artist', 'Year', 'High posn'], dtype='object')\n"
     ]
    }
   ],
   "source": [
    "# ZADANIE 5: Wyrzuć kolumnę 'POS'\n",
    "df = df.drop(columns=['Pos'])\n",
    "\n",
    "print(df.columns)\n"
   ]
  },
  {
   "cell_type": "code",
   "execution_count": 16,
   "id": "f0c8c2d0",
   "metadata": {},
   "outputs": [
    {
     "name": "stdout",
     "output_type": "stream",
     "text": [
      "\n",
      "Rok z największą liczbą albumów: 2000\n"
     ]
    }
   ],
   "source": [
    "# ZADANIE 6: W którym roku wyszło najwięcej albumów?\n",
    "najpopularniejszy_rok = df['Year'].value_counts().idxmax()\n",
    "print(f\"\\nRok z największą liczbą albumów: {najpopularniejszy_rok}\")"
   ]
  },
  {
   "cell_type": "code",
   "execution_count": 22,
   "id": "e200dd98",
   "metadata": {},
   "outputs": [
    {
     "name": "stdout",
     "output_type": "stream",
     "text": [
      "Liczba albumów z lat 1960–1990: 22\n"
     ]
    }
   ],
   "source": [
    "# ZADANIE 7: Ile albumów z lat 1960-1990?\n",
    "#albumy_60_90 = df[(df['Year'] >= 1960) & (df['Year'] <= 1990)]\n",
    "#print(f\"\\nLiczba albumów z lat 1960–1990: {len(albumy_60_90)}\")\n",
    "\n",
    "df['Year'] = pd.to_numeric(df['Year'], errors='coerce')\n",
    "albumy_60_90 = df[(df['Year'] >= 1960) & (df['Year'] <= 1990)]\n",
    "\n",
    "print(f\"Liczba albumów z lat 1960–1990: {len(albumy_60_90)}\")"
   ]
  },
  {
   "cell_type": "code",
   "execution_count": 24,
   "id": "3c34e1a6",
   "metadata": {},
   "outputs": [
    {
     "data": {
      "text/html": [
       "<div>\n",
       "<style scoped>\n",
       "    .dataframe tbody tr th:only-of-type {\n",
       "        vertical-align: middle;\n",
       "    }\n",
       "\n",
       "    .dataframe tbody tr th {\n",
       "        vertical-align: top;\n",
       "    }\n",
       "\n",
       "    .dataframe thead th {\n",
       "        text-align: right;\n",
       "    }\n",
       "</style>\n",
       "<table border=\"1\" class=\"dataframe\">\n",
       "  <thead>\n",
       "    <tr style=\"text-align: right;\">\n",
       "      <th></th>\n",
       "      <th>Title</th>\n",
       "      <th>Artist</th>\n",
       "      <th>Year</th>\n",
       "      <th>High posn</th>\n",
       "    </tr>\n",
       "  </thead>\n",
       "  <tbody>\n",
       "    <tr>\n",
       "      <th>0</th>\n",
       "      <td>TITLE</td>\n",
       "      <td>ARTIST</td>\n",
       "      <td>NaN</td>\n",
       "      <td>HIGH POSN</td>\n",
       "    </tr>\n",
       "    <tr>\n",
       "      <th>1</th>\n",
       "      <td>GREATEST HITS</td>\n",
       "      <td>QUEEN</td>\n",
       "      <td>1981.0</td>\n",
       "      <td>1</td>\n",
       "    </tr>\n",
       "    <tr>\n",
       "      <th>2</th>\n",
       "      <td>GOLD - GREATEST HITS</td>\n",
       "      <td>ABBA</td>\n",
       "      <td>1992.0</td>\n",
       "      <td>1</td>\n",
       "    </tr>\n",
       "    <tr>\n",
       "      <th>3</th>\n",
       "      <td>SGT PEPPER'S LONELY HEARTS CLUB BAND</td>\n",
       "      <td>BEATLES</td>\n",
       "      <td>1967.0</td>\n",
       "      <td>1</td>\n",
       "    </tr>\n",
       "    <tr>\n",
       "      <th>4</th>\n",
       "      <td>21</td>\n",
       "      <td>ADELE</td>\n",
       "      <td>2011.0</td>\n",
       "      <td>1</td>\n",
       "    </tr>\n",
       "  </tbody>\n",
       "</table>\n",
       "</div>"
      ],
      "text/plain": [
       "                                  Title   Artist    Year  High posn\n",
       "0                                 TITLE   ARTIST     NaN  HIGH POSN\n",
       "1                         GREATEST HITS    QUEEN  1981.0          1\n",
       "2                  GOLD - GREATEST HITS     ABBA  1992.0          1\n",
       "3  SGT PEPPER'S LONELY HEARTS CLUB BAND  BEATLES  1967.0          1\n",
       "4                                    21    ADELE  2011.0          1"
      ]
     },
     "execution_count": 24,
     "metadata": {},
     "output_type": "execute_result"
    }
   ],
   "source": [
    "df.head()"
   ]
  },
  {
   "cell_type": "code",
   "execution_count": 28,
   "id": "5f9474b3",
   "metadata": {},
   "outputs": [
    {
     "name": "stdout",
     "output_type": "stream",
     "text": [
      "\n",
      "Najmłodszy album pochodzi z roku: 2015.0\n",
      "\n",
      "Zapisano plik: najwczesniejsze_albumy.csv\n"
     ]
    }
   ],
   "source": [
    "\n",
    "# ZADANIE 8: Najmłodszy album\n",
    "najmlodszy_rok = df['Year'].max()\n",
    "print(f\"\\nNajmłodszy album pochodzi z roku: {najmlodszy_rok}\")\n",
    "\n",
    "# ZADANIE 9: Najwcześniejszy album każdego artysty\n",
    "najwczesniejsze_albumy = df.sort_values('Year').drop_duplicates(subset='Artist', keep='first')\n",
    "\n",
    "# ZADANIE 10: Zapisz do pliku CSV\n",
    "najwczesniejsze_albumy.to_csv(\"najwczesniejsze_albumy.csv\", index=False)\n",
    "print(\"\\nZapisano plik: najwczesniejsze_albumy.csv\")\n"
   ]
  },
  {
   "cell_type": "code",
   "execution_count": 29,
   "id": "7e0ffd4e",
   "metadata": {},
   "outputs": [
    {
     "data": {
      "text/html": [
       "<div>\n",
       "<style scoped>\n",
       "    .dataframe tbody tr th:only-of-type {\n",
       "        vertical-align: middle;\n",
       "    }\n",
       "\n",
       "    .dataframe tbody tr th {\n",
       "        vertical-align: top;\n",
       "    }\n",
       "\n",
       "    .dataframe thead th {\n",
       "        text-align: right;\n",
       "    }\n",
       "</style>\n",
       "<table border=\"1\" class=\"dataframe\">\n",
       "  <thead>\n",
       "    <tr style=\"text-align: right;\">\n",
       "      <th></th>\n",
       "      <th>Title</th>\n",
       "      <th>Artist</th>\n",
       "      <th>Year</th>\n",
       "      <th>High posn</th>\n",
       "    </tr>\n",
       "  </thead>\n",
       "  <tbody>\n",
       "    <tr>\n",
       "      <th>0</th>\n",
       "      <td>TITLE</td>\n",
       "      <td>ARTIST</td>\n",
       "      <td>NaN</td>\n",
       "      <td>HIGH POSN</td>\n",
       "    </tr>\n",
       "    <tr>\n",
       "      <th>1</th>\n",
       "      <td>GREATEST HITS</td>\n",
       "      <td>QUEEN</td>\n",
       "      <td>1981.0</td>\n",
       "      <td>1</td>\n",
       "    </tr>\n",
       "    <tr>\n",
       "      <th>2</th>\n",
       "      <td>GOLD - GREATEST HITS</td>\n",
       "      <td>ABBA</td>\n",
       "      <td>1992.0</td>\n",
       "      <td>1</td>\n",
       "    </tr>\n",
       "    <tr>\n",
       "      <th>3</th>\n",
       "      <td>SGT PEPPER'S LONELY HEARTS CLUB BAND</td>\n",
       "      <td>BEATLES</td>\n",
       "      <td>1967.0</td>\n",
       "      <td>1</td>\n",
       "    </tr>\n",
       "    <tr>\n",
       "      <th>4</th>\n",
       "      <td>21</td>\n",
       "      <td>ADELE</td>\n",
       "      <td>2011.0</td>\n",
       "      <td>1</td>\n",
       "    </tr>\n",
       "  </tbody>\n",
       "</table>\n",
       "</div>"
      ],
      "text/plain": [
       "                                  Title   Artist    Year  High posn\n",
       "0                                 TITLE   ARTIST     NaN  HIGH POSN\n",
       "1                         GREATEST HITS    QUEEN  1981.0          1\n",
       "2                  GOLD - GREATEST HITS     ABBA  1992.0          1\n",
       "3  SGT PEPPER'S LONELY HEARTS CLUB BAND  BEATLES  1967.0          1\n",
       "4                                    21    ADELE  2011.0          1"
      ]
     },
     "execution_count": 29,
     "metadata": {},
     "output_type": "execute_result"
    }
   ],
   "source": [
    "df.head()"
   ]
  }
 ],
 "metadata": {
  "kernelspec": {
   "display_name": "Python 3",
   "language": "python",
   "name": "python3"
  },
  "language_info": {
   "codemirror_mode": {
    "name": "ipython",
    "version": 3
   },
   "file_extension": ".py",
   "mimetype": "text/x-python",
   "name": "python",
   "nbconvert_exporter": "python",
   "pygments_lexer": "ipython3",
   "version": "3.13.2"
  }
 },
 "nbformat": 4,
 "nbformat_minor": 5
}
